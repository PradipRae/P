{
 "cells": [
  {
   "cell_type": "code",
   "execution_count": 1,
   "id": "5e0c5fb8-02cf-4200-b62e-18ea8ef1a0f6",
   "metadata": {},
   "outputs": [],
   "source": [
    "# Q1. Which keyword is used to create a function? Create a function to return a list of odd numbers in the range of 1 to 25.\n"
   ]
  },
  {
   "cell_type": "code",
   "execution_count": 2,
   "id": "17991e48-63ba-4200-bc99-33e98ad37944",
   "metadata": {},
   "outputs": [],
   "source": [
    "# def keyword is used to create a function."
   ]
  },
  {
   "cell_type": "code",
   "execution_count": 12,
   "id": "85873f88-f9cc-43c1-8ad1-71f831c7e35a",
   "metadata": {},
   "outputs": [],
   "source": [
    "l= list(range(1,25))"
   ]
  },
  {
   "cell_type": "code",
   "execution_count": null,
   "id": "17ce5065-03a8-4a88-bce5-ced2a8fb698d",
   "metadata": {},
   "outputs": [],
   "source": []
  },
  {
   "cell_type": "code",
   "execution_count": null,
   "id": "798869ed-9f8d-4ea1-a19a-6fccaa687cd6",
   "metadata": {},
   "outputs": [],
   "source": [
    "def test(a):\n",
    "    l=list(range(1,25))\n",
    "    if l%2!=0:\n",
    "        return l\n",
    "    "
   ]
  },
  {
   "cell_type": "code",
   "execution_count": null,
   "id": "cd1478a9-07af-4362-aaf7-72b2afadd164",
   "metadata": {},
   "outputs": [],
   "source": []
  },
  {
   "cell_type": "code",
   "execution_count": null,
   "id": "f874612a-9a1c-46bf-b3d8-cc2ef959805d",
   "metadata": {},
   "outputs": [],
   "source": []
  },
  {
   "cell_type": "code",
   "execution_count": null,
   "id": "e96f3fb9-fb9d-425a-baca-09a657c5322b",
   "metadata": {},
   "outputs": [],
   "source": []
  },
  {
   "cell_type": "code",
   "execution_count": null,
   "id": "2b01b3ad-b689-47ba-8b99-d22f8fb082d3",
   "metadata": {},
   "outputs": [],
   "source": []
  },
  {
   "cell_type": "code",
   "execution_count": 1,
   "id": "a91a7f01-7947-46e1-aa52-cbbda5b98a08",
   "metadata": {},
   "outputs": [],
   "source": [
    "# Q2. Why *args and **kwargs is used in some functions? Craate a function each for *args and **kwargs to demonstrate their use."
   ]
  },
  {
   "cell_type": "code",
   "execution_count": 2,
   "id": "71b7165c-4693-477a-bf06-4670212f6ca2",
   "metadata": {},
   "outputs": [],
   "source": [
    "#  *args is useed in some functions to input multiple data as a tuple type.\n",
    "        # **kwargs is used in some functions to input infinite data in a dictnary type "
   ]
  },
  {
   "cell_type": "code",
   "execution_count": 3,
   "id": "141eff31-ddc9-4da2-8057-f5a071c0175a",
   "metadata": {},
   "outputs": [],
   "source": [
    "#for example \n",
    "def test(*args):\n",
    "    return args"
   ]
  },
  {
   "cell_type": "code",
   "execution_count": 4,
   "id": "da2af33c-f945-4434-9da1-4a7f74f72244",
   "metadata": {},
   "outputs": [
    {
     "data": {
      "text/plain": [
       "(1, 2, 3, 3, 4, 5)"
      ]
     },
     "execution_count": 4,
     "metadata": {},
     "output_type": "execute_result"
    }
   ],
   "source": [
    "test(1,2,3,3,4,5)"
   ]
  },
  {
   "cell_type": "code",
   "execution_count": 5,
   "id": "8320debd-e314-460e-9f7b-5c8d9345af9a",
   "metadata": {},
   "outputs": [],
   "source": [
    "# for example \n",
    "def test1(**kwargs):\n",
    "    return kwargs"
   ]
  },
  {
   "cell_type": "code",
   "execution_count": 6,
   "id": "6fe4811d-8cee-407a-b55c-6d951a731964",
   "metadata": {},
   "outputs": [
    {
     "data": {
      "text/plain": [
       "{'a': 1, 'b': 2, 'c': 'pradip', 'd': 'rai', 'e': 'eleven'}"
      ]
     },
     "execution_count": 6,
     "metadata": {},
     "output_type": "execute_result"
    }
   ],
   "source": [
    "test1(a=1,b=2,c=\"pradip\",d=\"rai\",e=\"eleven\")"
   ]
  },
  {
   "cell_type": "code",
   "execution_count": null,
   "id": "c4a27689-06e3-48cd-95d3-13c5848b1e4a",
   "metadata": {},
   "outputs": [],
   "source": []
  },
  {
   "cell_type": "code",
   "execution_count": null,
   "id": "b63ce503-9469-456b-8fab-214e0b16c2b4",
   "metadata": {},
   "outputs": [],
   "source": []
  },
  {
   "cell_type": "code",
   "execution_count": 1,
   "id": "9be082bf-ea50-4969-ba12-d5e8c39887d3",
   "metadata": {},
   "outputs": [],
   "source": [
    "#Q3. What is an iterator in python? Name the method used to initialise the iterator object and the method used used for iteration. Use these methods to print the first five elements of the given list [2,4,6,8,10,12,14,16,18,20]"
   ]
  },
  {
   "cell_type": "code",
   "execution_count": 2,
   "id": "b5f86389-9c6b-4aa5-a7f5-261cd06980b2",
   "metadata": {},
   "outputs": [],
   "source": [
    "# In Python,Iterator is an object that allows you to iterate over collections of data, such as lists,tuples,dictionaries,and sets.\n",
    "# iter() method is used to initialise the iterator object \n",
    "#Given,\n",
    "l=[2,4,6,8,10,12,14,16,18,20]"
   ]
  },
  {
   "cell_type": "code",
   "execution_count": 3,
   "id": "81136234-6d29-40a1-9bb6-cfcc77799758",
   "metadata": {},
   "outputs": [],
   "source": [
    "l=iter(l)"
   ]
  },
  {
   "cell_type": "code",
   "execution_count": 4,
   "id": "d4684344-7476-4617-b51f-21c81918e019",
   "metadata": {},
   "outputs": [
    {
     "data": {
      "text/plain": [
       "2"
      ]
     },
     "execution_count": 4,
     "metadata": {},
     "output_type": "execute_result"
    }
   ],
   "source": [
    "next(l)"
   ]
  },
  {
   "cell_type": "code",
   "execution_count": 5,
   "id": "15abf768-83d6-4124-b689-9ecd7a09e157",
   "metadata": {},
   "outputs": [
    {
     "data": {
      "text/plain": [
       "4"
      ]
     },
     "execution_count": 5,
     "metadata": {},
     "output_type": "execute_result"
    }
   ],
   "source": [
    "next(l)"
   ]
  },
  {
   "cell_type": "code",
   "execution_count": 6,
   "id": "97a3f1a4-35cd-47d5-be50-6c435e3bec24",
   "metadata": {},
   "outputs": [
    {
     "data": {
      "text/plain": [
       "6"
      ]
     },
     "execution_count": 6,
     "metadata": {},
     "output_type": "execute_result"
    }
   ],
   "source": [
    "next(l)"
   ]
  },
  {
   "cell_type": "code",
   "execution_count": 7,
   "id": "120475a9-c20d-47a9-adbb-331f0b0248df",
   "metadata": {},
   "outputs": [
    {
     "data": {
      "text/plain": [
       "8"
      ]
     },
     "execution_count": 7,
     "metadata": {},
     "output_type": "execute_result"
    }
   ],
   "source": [
    "next(l)"
   ]
  },
  {
   "cell_type": "code",
   "execution_count": 8,
   "id": "6df3fd7b-113b-434d-91d4-28d64a505610",
   "metadata": {},
   "outputs": [
    {
     "data": {
      "text/plain": [
       "10"
      ]
     },
     "execution_count": 8,
     "metadata": {},
     "output_type": "execute_result"
    }
   ],
   "source": [
    "next(l)"
   ]
  },
  {
   "cell_type": "code",
   "execution_count": null,
   "id": "b5d913a4-f52c-4ac4-a7f6-f6087e783fc2",
   "metadata": {},
   "outputs": [],
   "source": []
  },
  {
   "cell_type": "code",
   "execution_count": null,
   "id": "c254f90e-c020-4736-8966-7eb5939bb40f",
   "metadata": {},
   "outputs": [],
   "source": []
  },
  {
   "cell_type": "code",
   "execution_count": 9,
   "id": "7837bce7-ffb8-48fb-a2ed-7d3703070334",
   "metadata": {},
   "outputs": [],
   "source": [
    "# Q4. What is a generator in Python? why yield keyword is used? Give an example of a generator function."
   ]
  },
  {
   "cell_type": "code",
   "execution_count": 26,
   "id": "84bd969b-2d9c-422f-8b88-33e4099f2e85",
   "metadata": {},
   "outputs": [],
   "source": [
    "#In Python,a generator is a functionthat returns an iterator that produces a sequence of values when iterated over . \n",
    "#eg \n",
    "def test_fib():\n",
    "    a,b=0,1\n",
    "    while True:\n",
    "        yield a\n",
    "        a,b=b,a+b\n",
    "    "
   ]
  },
  {
   "cell_type": "code",
   "execution_count": 27,
   "id": "636ba0db-eb51-4b15-b2ca-7eb405046a7b",
   "metadata": {},
   "outputs": [],
   "source": [
    "fib=test_fib()"
   ]
  },
  {
   "cell_type": "code",
   "execution_count": 28,
   "id": "9493746b-21d7-4157-bde1-43935ac3eb05",
   "metadata": {},
   "outputs": [
    {
     "name": "stdout",
     "output_type": "stream",
     "text": [
      "0\n",
      "1\n",
      "1\n",
      "2\n",
      "3\n",
      "5\n",
      "8\n",
      "13\n",
      "21\n",
      "34\n"
     ]
    }
   ],
   "source": [
    "for i in range (10):\n",
    "    print(next(fib))"
   ]
  },
  {
   "cell_type": "code",
   "execution_count": null,
   "id": "8820573f-a63d-4f8d-8e99-5e92e29efca5",
   "metadata": {},
   "outputs": [],
   "source": []
  },
  {
   "cell_type": "code",
   "execution_count": null,
   "id": "9901ef56-9cfd-455c-9834-79bf499ceb48",
   "metadata": {},
   "outputs": [],
   "source": []
  },
  {
   "cell_type": "code",
   "execution_count": null,
   "id": "f1c69838-7568-4609-a89c-0fdf4d2bb845",
   "metadata": {},
   "outputs": [],
   "source": []
  },
  {
   "cell_type": "code",
   "execution_count": null,
   "id": "c14e7c31-3a65-4b5b-b272-13abafe423cc",
   "metadata": {},
   "outputs": [],
   "source": []
  },
  {
   "cell_type": "code",
   "execution_count": 29,
   "id": "f193dad1-9d9d-4f47-a91a-32e4d0642155",
   "metadata": {},
   "outputs": [],
   "source": [
    "# Q5. create a generator function for prime numbers less then 1000. Use the next() method to print the first 20 prime numbers.\n"
   ]
  },
  {
   "cell_type": "code",
   "execution_count": 3,
   "id": "eef1bf12-3b6b-407c-9f6d-ad99345f541e",
   "metadata": {},
   "outputs": [],
   "source": [
    "def is_prime(n):\n",
    "    if n<2:\n",
    "        return False\n",
    "    for i in range(2,int(n**0.5)+1):\n",
    "        if n%i==0:\n",
    "            return False \n",
    "    return True"
   ]
  },
  {
   "cell_type": "code",
   "execution_count": 12,
   "id": "42a1bc73-9b13-4dd9-939f-619fb7adf8e5",
   "metadata": {},
   "outputs": [],
   "source": [
    "def generate_primes():\n",
    "    for number in range(2,1000):\n",
    "        if is_prime(number):\n",
    "            yield number"
   ]
  },
  {
   "cell_type": "code",
   "execution_count": 16,
   "id": "79212456-db6b-42e8-afb6-f5b629ca4fed",
   "metadata": {},
   "outputs": [
    {
     "name": "stdout",
     "output_type": "stream",
     "text": [
      "2\n",
      "3\n",
      "5\n",
      "7\n",
      "11\n",
      "13\n",
      "17\n",
      "19\n",
      "23\n",
      "29\n",
      "31\n",
      "37\n",
      "41\n",
      "43\n",
      "47\n",
      "53\n",
      "59\n",
      "61\n",
      "67\n",
      "71\n",
      "73\n",
      "79\n",
      "83\n",
      "89\n",
      "97\n",
      "101\n",
      "103\n",
      "107\n",
      "109\n",
      "113\n",
      "127\n",
      "131\n",
      "137\n",
      "139\n",
      "149\n",
      "151\n",
      "157\n",
      "163\n",
      "167\n",
      "173\n",
      "179\n",
      "181\n",
      "191\n",
      "193\n",
      "197\n",
      "199\n",
      "211\n",
      "223\n",
      "227\n",
      "229\n",
      "233\n",
      "239\n",
      "241\n",
      "251\n",
      "257\n",
      "263\n",
      "269\n",
      "271\n",
      "277\n",
      "281\n",
      "283\n",
      "293\n",
      "307\n",
      "311\n",
      "313\n",
      "317\n",
      "331\n",
      "337\n",
      "347\n",
      "349\n",
      "353\n",
      "359\n",
      "367\n",
      "373\n",
      "379\n",
      "383\n",
      "389\n",
      "397\n",
      "401\n",
      "409\n",
      "419\n",
      "421\n",
      "431\n",
      "433\n",
      "439\n",
      "443\n",
      "449\n",
      "457\n",
      "461\n",
      "463\n",
      "467\n",
      "479\n",
      "487\n",
      "491\n",
      "499\n",
      "503\n",
      "509\n",
      "521\n",
      "523\n",
      "541\n",
      "547\n",
      "557\n",
      "563\n",
      "569\n",
      "571\n",
      "577\n",
      "587\n",
      "593\n",
      "599\n",
      "601\n",
      "607\n",
      "613\n",
      "617\n",
      "619\n",
      "631\n",
      "641\n",
      "643\n",
      "647\n",
      "653\n",
      "659\n",
      "661\n",
      "673\n",
      "677\n",
      "683\n",
      "691\n",
      "701\n",
      "709\n",
      "719\n",
      "727\n",
      "733\n",
      "739\n",
      "743\n",
      "751\n",
      "757\n",
      "761\n",
      "769\n",
      "773\n",
      "787\n",
      "797\n",
      "809\n",
      "811\n",
      "821\n",
      "823\n",
      "827\n",
      "829\n",
      "839\n",
      "853\n",
      "857\n",
      "859\n",
      "863\n",
      "877\n",
      "881\n",
      "883\n",
      "887\n",
      "907\n",
      "911\n",
      "919\n",
      "929\n",
      "937\n",
      "941\n",
      "947\n",
      "953\n",
      "967\n",
      "971\n",
      "977\n",
      "983\n",
      "991\n",
      "997\n"
     ]
    }
   ],
   "source": [
    "prime_generator=generate_primes()\n",
    "for prime in prime_generator:\n",
    "    print(prime)"
   ]
  },
  {
   "cell_type": "code",
   "execution_count": 25,
   "id": "a74de707-5727-44d0-9870-a9a304c27fff",
   "metadata": {},
   "outputs": [],
   "source": [
    "def generate_primes():\n",
    "    number=2\n",
    "    while number <1000:\n",
    "        if is_prime(number):\n",
    "            yield number\n",
    "        number+=1"
   ]
  },
  {
   "cell_type": "code",
   "execution_count": 28,
   "id": "9232f0fa-02f9-4ee0-977d-5346882db0cc",
   "metadata": {},
   "outputs": [
    {
     "name": "stdout",
     "output_type": "stream",
     "text": [
      "2\n",
      "3\n",
      "5\n",
      "7\n",
      "11\n",
      "13\n",
      "17\n",
      "19\n",
      "23\n",
      "29\n",
      "31\n",
      "37\n",
      "41\n",
      "43\n",
      "47\n",
      "53\n",
      "59\n",
      "61\n",
      "67\n",
      "71\n"
     ]
    }
   ],
   "source": [
    "prime_generator=generate_primes()\n",
    "for _ in range(20):\n",
    "    prime=next(prime_generator)\n",
    "    print(prime)"
   ]
  },
  {
   "cell_type": "code",
   "execution_count": null,
   "id": "a05d093e-40fc-4e43-adce-35164e7f55a9",
   "metadata": {},
   "outputs": [],
   "source": []
  },
  {
   "cell_type": "code",
   "execution_count": null,
   "id": "16f82d56-ac29-4541-a1df-b1fdbece9220",
   "metadata": {},
   "outputs": [],
   "source": []
  },
  {
   "cell_type": "code",
   "execution_count": null,
   "id": "28fd7a7f-5680-4b97-a855-fb0688bd5456",
   "metadata": {},
   "outputs": [],
   "source": []
  },
  {
   "cell_type": "code",
   "execution_count": 14,
   "id": "9ee8e1b0-101a-43b9-9ca3-1ec4e4a57883",
   "metadata": {},
   "outputs": [],
   "source": [
    "# Q6. Write a python program to print the first 10 fibonacci numbers using a while loop."
   ]
  },
  {
   "cell_type": "code",
   "execution_count": 32,
   "id": "65edb8fa-bd68-4f07-a0bb-3b19c5c25784",
   "metadata": {},
   "outputs": [
    {
     "name": "stdout",
     "output_type": "stream",
     "text": [
      "1\n",
      "2\n",
      "3\n",
      "5\n",
      "8\n",
      "13\n",
      "21\n",
      "34\n",
      "55\n"
     ]
    }
   ],
   "source": [
    "def print_fibonacci(n):\n",
    "    if n<=0:\n",
    "        return\n",
    "    elif n==1:\n",
    "        print(0)\n",
    "    else:\n",
    "        fib_sequence=[0,1]\n",
    "        count=2\n",
    "        while count<=n:\n",
    "            fib_number=fib_sequence[count -1]+fib_sequence[count-2]\n",
    "            fib_sequence.append(fib_number)\n",
    "            print(fib_number)\n",
    "            count+=1\n",
    "print_fibonacci(10)"
   ]
  },
  {
   "cell_type": "code",
   "execution_count": null,
   "id": "a5984739-2724-4b1b-95fa-b9ffc50cce8f",
   "metadata": {},
   "outputs": [],
   "source": []
  },
  {
   "cell_type": "code",
   "execution_count": null,
   "id": "5f9ba51b-1f5d-4418-9750-3baeae2e7641",
   "metadata": {},
   "outputs": [],
   "source": []
  },
  {
   "cell_type": "code",
   "execution_count": null,
   "id": "c4bae7cd-2896-4b2d-ae31-a71d742be0bb",
   "metadata": {},
   "outputs": [],
   "source": []
  },
  {
   "cell_type": "code",
   "execution_count": null,
   "id": "24822cbb-a8bc-4e5a-ab50-657265df8720",
   "metadata": {},
   "outputs": [],
   "source": []
  },
  {
   "cell_type": "code",
   "execution_count": null,
   "id": "f76856d3-dc05-4099-8173-be93d5a3a297",
   "metadata": {},
   "outputs": [],
   "source": [
    "# Q7. Write a list comprehension to iterate through the given string:'pwskills'. Expected output:['p','w','s','k','i','l','l','s']"
   ]
  },
  {
   "cell_type": "code",
   "execution_count": 33,
   "id": "1f891896-d42d-46fa-b033-3ad16f9971bb",
   "metadata": {},
   "outputs": [],
   "source": [
    "string=\"pwskills\""
   ]
  },
  {
   "cell_type": "code",
   "execution_count": 40,
   "id": "d296113e-630b-4f7f-afab-258a1f703970",
   "metadata": {},
   "outputs": [
    {
     "name": "stdout",
     "output_type": "stream",
     "text": [
      "['p', 's', 'k', 'i', 'l', 'l', 's']\n"
     ]
    }
   ],
   "source": [
    "extend_output=[i for i in string if i in \"peskills\"]\n",
    "print(extend_output)"
   ]
  },
  {
   "cell_type": "code",
   "execution_count": null,
   "id": "33fb0e17-8697-4dae-a48a-4999538b0856",
   "metadata": {},
   "outputs": [],
   "source": []
  },
  {
   "cell_type": "code",
   "execution_count": null,
   "id": "d7d4e4ea-e969-4f57-892b-61979f118088",
   "metadata": {},
   "outputs": [],
   "source": []
  },
  {
   "cell_type": "code",
   "execution_count": null,
   "id": "e8961d20-6d51-4889-8379-f21512f314ae",
   "metadata": {},
   "outputs": [],
   "source": []
  },
  {
   "cell_type": "code",
   "execution_count": 34,
   "id": "930af387-935d-4a53-9ca7-1a7afa2f45c7",
   "metadata": {},
   "outputs": [],
   "source": [
    "#Q8. Write  python program to check whether a given numbers is Palindrome or not using a while loop."
   ]
  },
  {
   "cell_type": "code",
   "execution_count": null,
   "id": "4ab4be9b-f841-49cf-9836-d0bb1683dcb5",
   "metadata": {},
   "outputs": [],
   "source": []
  },
  {
   "cell_type": "code",
   "execution_count": null,
   "id": "5c9d5601-e3f0-49b8-87ba-74f1f43af335",
   "metadata": {},
   "outputs": [],
   "source": []
  },
  {
   "cell_type": "code",
   "execution_count": 41,
   "id": "48bb074b-3019-41b1-9717-9e73d748d956",
   "metadata": {},
   "outputs": [],
   "source": [
    "#Q9. Write a code to print odd numbers  from 1 to 100 using list comprehension."
   ]
  },
  {
   "cell_type": "code",
   "execution_count": 43,
   "id": "77dc3c92-7e92-4ddb-85f1-0ab154aa39fc",
   "metadata": {},
   "outputs": [
    {
     "name": "stdout",
     "output_type": "stream",
     "text": [
      "[1, 3, 5, 7, 9, 11, 13, 15, 17, 19, 21, 23, 25, 27, 29, 31, 33, 35, 37, 39, 41, 43, 45, 47, 49, 51, 53, 55, 57, 59, 61, 63, 65, 67, 69, 71, 73, 75, 77, 79, 81, 83, 85, 87, 89, 91, 93, 95, 97, 99]\n"
     ]
    }
   ],
   "source": [
    "odd_numbers = [num for num in range(1, 101) if num % 2 != 0]\n",
    "print(odd_numbers)"
   ]
  },
  {
   "cell_type": "code",
   "execution_count": null,
   "id": "21101353-2fb7-4d68-827a-d48188c8cfa6",
   "metadata": {},
   "outputs": [],
   "source": []
  }
 ],
 "metadata": {
  "kernelspec": {
   "display_name": "Python 3 (ipykernel)",
   "language": "python",
   "name": "python3"
  },
  "language_info": {
   "codemirror_mode": {
    "name": "ipython",
    "version": 3
   },
   "file_extension": ".py",
   "mimetype": "text/x-python",
   "name": "python",
   "nbconvert_exporter": "python",
   "pygments_lexer": "ipython3",
   "version": "3.10.8"
  }
 },
 "nbformat": 4,
 "nbformat_minor": 5
}
