{
 "cells": [
  {
   "cell_type": "code",
   "execution_count": 4,
   "id": "fa4304f8-7b06-42b3-b766-e48ed3703429",
   "metadata": {},
   "outputs": [],
   "source": [
    "# Q1. How do you comment code in python? What are the different types of comments?"
   ]
  },
  {
   "cell_type": "code",
   "execution_count": 5,
   "id": "ffd4532e-d34c-4f86-b35d-49d577bf541c",
   "metadata": {},
   "outputs": [],
   "source": [
    "# we can comment code in python just by '#' in front of the line as similar as i have done in Q1.\n",
    "              #we have only one type of comment  i.e. by putting '#' in front of the line\n"
   ]
  },
  {
   "cell_type": "code",
   "execution_count": null,
   "id": "a4acb263-77aa-40d1-8fe4-0ae6d1b41966",
   "metadata": {},
   "outputs": [],
   "source": []
  },
  {
   "cell_type": "code",
   "execution_count": null,
   "id": "894e39df-3535-405a-972c-8672e2f7120f",
   "metadata": {},
   "outputs": [],
   "source": []
  },
  {
   "cell_type": "code",
   "execution_count": null,
   "id": "8afe83df-680e-4b49-9443-134ff47cb58e",
   "metadata": {},
   "outputs": [],
   "source": []
  },
  {
   "cell_type": "code",
   "execution_count": null,
   "id": "7771a6c3-05c3-4214-9eea-636bab2fafbb",
   "metadata": {},
   "outputs": [],
   "source": [
    "#  Q2. What are the variables in python? How do you declare and assign values to variables?"
   ]
  },
  {
   "cell_type": "code",
   "execution_count": null,
   "id": "e1ea0a6d-7fe0-48c1-8b36-7b533a1c2b7c",
   "metadata": {},
   "outputs": [],
   "source": [
    "# Variables are the name of the memory location where the different types of values are stored.\n",
    "#"
   ]
  },
  {
   "cell_type": "code",
   "execution_count": null,
   "id": "d08c00b3-7dae-4448-b3ba-b3306d09189e",
   "metadata": {},
   "outputs": [],
   "source": []
  },
  {
   "cell_type": "code",
   "execution_count": null,
   "id": "0df7abbf-b83a-4fd4-9023-c8862237e27b",
   "metadata": {},
   "outputs": [],
   "source": []
  },
  {
   "cell_type": "code",
   "execution_count": 8,
   "id": "37d1a44b-c09a-4614-8649-2ded1c8fb692",
   "metadata": {},
   "outputs": [],
   "source": [
    "# Q3. How do you convert one data type to another in Python?"
   ]
  },
  {
   "cell_type": "code",
   "execution_count": 14,
   "id": "52601773-11cc-4250-878c-3c6bb4828341",
   "metadata": {},
   "outputs": [],
   "source": [
    "# some of the types of data are : integer ,bullian,float,complex,string, list ,tuple ,dictnary, set \n",
    "#inregers are the numericles\n",
    "#boolian : True and False\n",
    "#float are those values which are in decimals eg- 22.5\n",
    "#complex is a data type which denotes the complex number eg- 4+3j\n",
    "#string are those variables which are written inside \" \" eg- a=\"pradip\"\n",
    "#list : anythings written inside the [ ] are list type data\n",
    "#tuple: anything written inside the ( ) are tuples\n",
    "#dictnary: anything written inside the { } with key is dictnary\n",
    "#set : anything inside the {} are set\n",
    "# Let us consider an example say \n"
   ]
  },
  {
   "cell_type": "code",
   "execution_count": 24,
   "id": "79223235-fcdf-4928-848e-45a8e5fed8fe",
   "metadata": {},
   "outputs": [],
   "source": [
    "a=[1,2,23,6,7]"
   ]
  },
  {
   "cell_type": "code",
   "execution_count": 29,
   "id": "56b1dca4-fc0e-4aa8-8d79-9d1676ef9d5e",
   "metadata": {},
   "outputs": [
    {
     "data": {
      "text/plain": [
       "tuple"
      ]
     },
     "execution_count": 29,
     "metadata": {},
     "output_type": "execute_result"
    }
   ],
   "source": [
    "type(a)"
   ]
  },
  {
   "cell_type": "code",
   "execution_count": 30,
   "id": "317593ef-fe07-481d-8d36-c5a956e1cb4e",
   "metadata": {},
   "outputs": [],
   "source": [
    "# the variable 'a' has its type in tuple ,now it can be converted into different data type by the following ways:"
   ]
  },
  {
   "cell_type": "code",
   "execution_count": 32,
   "id": "0a98983f-9320-4ab6-a841-9a699c8c1c92",
   "metadata": {},
   "outputs": [],
   "source": [
    "a=list(a)"
   ]
  },
  {
   "cell_type": "code",
   "execution_count": 33,
   "id": "ae5e32b2-4b2f-446b-8882-94be9ec3a159",
   "metadata": {},
   "outputs": [
    {
     "data": {
      "text/plain": [
       "[1, 2, 23, 6, 7]"
      ]
     },
     "execution_count": 33,
     "metadata": {},
     "output_type": "execute_result"
    }
   ],
   "source": [
    "a"
   ]
  },
  {
   "cell_type": "code",
   "execution_count": 34,
   "id": "4049776b-443c-4ae3-b22a-35f60c30d328",
   "metadata": {},
   "outputs": [],
   "source": [
    "# here, tuple is converted into list type"
   ]
  },
  {
   "cell_type": "code",
   "execution_count": 35,
   "id": "c83c2ec6-5ea1-482b-bc32-2a7258db9509",
   "metadata": {},
   "outputs": [],
   "source": [
    "a=str(a)"
   ]
  },
  {
   "cell_type": "code",
   "execution_count": 36,
   "id": "2a6ebe1e-91b9-4d5d-bdbd-55ee4745b0aa",
   "metadata": {},
   "outputs": [
    {
     "data": {
      "text/plain": [
       "'[1, 2, 23, 6, 7]'"
      ]
     },
     "execution_count": 36,
     "metadata": {},
     "output_type": "execute_result"
    }
   ],
   "source": [
    "a"
   ]
  },
  {
   "cell_type": "code",
   "execution_count": 37,
   "id": "133c2bbd-3a3b-4de9-a805-871c535a91e4",
   "metadata": {},
   "outputs": [],
   "source": [
    "# here, list has been converted into string as the value of a is in between ''\n"
   ]
  },
  {
   "cell_type": "code",
   "execution_count": 42,
   "id": "e3de82b4-d7ab-4e52-8450-20800bc68ce4",
   "metadata": {},
   "outputs": [],
   "source": [
    "b=True "
   ]
  },
  {
   "cell_type": "code",
   "execution_count": 44,
   "id": "cac89aee-fc0a-4ff7-a32b-09a2f6df1704",
   "metadata": {},
   "outputs": [
    {
     "data": {
      "text/plain": [
       "bool"
      ]
     },
     "execution_count": 44,
     "metadata": {},
     "output_type": "execute_result"
    }
   ],
   "source": [
    "type(b)"
   ]
  },
  {
   "cell_type": "code",
   "execution_count": 45,
   "id": "a8dbcd41-228f-42ae-a590-ad9739fb062c",
   "metadata": {},
   "outputs": [],
   "source": [
    "b='b'"
   ]
  },
  {
   "cell_type": "code",
   "execution_count": 46,
   "id": "380ba079-4d8e-48f4-a8ca-9795af1de626",
   "metadata": {},
   "outputs": [
    {
     "data": {
      "text/plain": [
       "'b'"
      ]
     },
     "execution_count": 46,
     "metadata": {},
     "output_type": "execute_result"
    }
   ],
   "source": [
    "b"
   ]
  },
  {
   "cell_type": "code",
   "execution_count": 47,
   "id": "bed8a95a-1792-4d12-beb9-3903345b2859",
   "metadata": {},
   "outputs": [
    {
     "data": {
      "text/plain": [
       "str"
      ]
     },
     "execution_count": 47,
     "metadata": {},
     "output_type": "execute_result"
    }
   ],
   "source": [
    "type(b)"
   ]
  },
  {
   "cell_type": "code",
   "execution_count": 48,
   "id": "d425b5fe-7e46-4f48-8baf-9bfd6a327878",
   "metadata": {},
   "outputs": [],
   "source": [
    "#here, previously b was a boolian type data and now it has been converted into string type data \n"
   ]
  },
  {
   "cell_type": "code",
   "execution_count": 49,
   "id": "8cf749e8-a728-443a-8147-f25f8bb87a72",
   "metadata": {},
   "outputs": [],
   "source": [
    "d={'p':'pradip','b':'bibek','c':'cat'}\n"
   ]
  },
  {
   "cell_type": "code",
   "execution_count": 50,
   "id": "ddcc01c2-b6bf-4bc8-b9d9-fd867355a95d",
   "metadata": {},
   "outputs": [
    {
     "data": {
      "text/plain": [
       "dict"
      ]
     },
     "execution_count": 50,
     "metadata": {},
     "output_type": "execute_result"
    }
   ],
   "source": [
    "type(d)"
   ]
  },
  {
   "cell_type": "code",
   "execution_count": 51,
   "id": "8f44f3e4-f662-48d7-9266-b4eb19813279",
   "metadata": {},
   "outputs": [],
   "source": [
    "d=list(d)"
   ]
  },
  {
   "cell_type": "code",
   "execution_count": 52,
   "id": "dcb54ff4-d1c0-4fc4-8771-fabf74435353",
   "metadata": {},
   "outputs": [
    {
     "data": {
      "text/plain": [
       "['p', 'b', 'c']"
      ]
     },
     "execution_count": 52,
     "metadata": {},
     "output_type": "execute_result"
    }
   ],
   "source": [
    "d"
   ]
  },
  {
   "cell_type": "code",
   "execution_count": 53,
   "id": "94f9ed85-500a-4e04-9231-d8d89ebafead",
   "metadata": {},
   "outputs": [],
   "source": [
    "# here, dictnary is converted into list"
   ]
  },
  {
   "cell_type": "code",
   "execution_count": 55,
   "id": "5119a432-835c-451f-a400-ddf9b1059fb5",
   "metadata": {},
   "outputs": [],
   "source": [
    "# similarly the data type can be converted into another data type "
   ]
  },
  {
   "cell_type": "code",
   "execution_count": null,
   "id": "4bcdde40-bb4c-4c43-93f4-1202c428b9be",
   "metadata": {},
   "outputs": [],
   "source": []
  },
  {
   "cell_type": "code",
   "execution_count": 56,
   "id": "ca8341a8-095f-4e80-94d7-9aaf582d3be4",
   "metadata": {},
   "outputs": [],
   "source": [
    "# Q4. How do you write and execute a Python script from the command line?"
   ]
  },
  {
   "cell_type": "code",
   "execution_count": null,
   "id": "1e9b168e-1a50-40b1-aeae-02e0fbce77be",
   "metadata": {},
   "outputs": [],
   "source": []
  },
  {
   "cell_type": "code",
   "execution_count": null,
   "id": "0a682150-4770-4972-be21-15aabae0730c",
   "metadata": {},
   "outputs": [],
   "source": []
  },
  {
   "cell_type": "code",
   "execution_count": null,
   "id": "b81eb70b-4339-41d5-beaf-16c3d46459e0",
   "metadata": {},
   "outputs": [],
   "source": []
  },
  {
   "cell_type": "code",
   "execution_count": 1,
   "id": "eae6cca8-d3c1-4b5a-80a8-0ae3124b8e8f",
   "metadata": {},
   "outputs": [],
   "source": [
    "# Q5. Given a list my_list=[1,2,3,4,5],Write the code to slice the list and obtain the sub-list [2,3]"
   ]
  },
  {
   "cell_type": "code",
   "execution_count": 2,
   "id": "a259eb32-9aca-415b-9166-e87cbf70f5fb",
   "metadata": {},
   "outputs": [],
   "source": [
    "my_list=[1,2,3,4,5]"
   ]
  },
  {
   "cell_type": "code",
   "execution_count": 4,
   "id": "bc380e58-90b5-49a1-bba2-0a89cb5fd8c5",
   "metadata": {},
   "outputs": [
    {
     "data": {
      "text/plain": [
       "[2, 5]"
      ]
     },
     "execution_count": 4,
     "metadata": {},
     "output_type": "execute_result"
    }
   ],
   "source": [
    "my_list[1::3]"
   ]
  },
  {
   "cell_type": "code",
   "execution_count": null,
   "id": "094c979c-82a5-4246-af6b-d4ba263ec69f",
   "metadata": {},
   "outputs": [],
   "source": []
  },
  {
   "cell_type": "code",
   "execution_count": null,
   "id": "f244cf00-f823-4977-82ab-f8af07251a1d",
   "metadata": {},
   "outputs": [],
   "source": []
  },
  {
   "cell_type": "code",
   "execution_count": 15,
   "id": "39bf510d-f0f6-447c-943e-f095a6cde88a",
   "metadata": {},
   "outputs": [],
   "source": [
    "# Q6. What is complex number in Mathematics, and how is it represented in Python?"
   ]
  },
  {
   "cell_type": "code",
   "execution_count": 16,
   "id": "cf273517-164f-420e-87d0-82a90860eacb",
   "metadata": {},
   "outputs": [],
   "source": [
    "# In Mathematics, Complex number is element of the number system which contains real and imagenary part. it is denoted by a+ib in mathematics, and i is the imaginary number has its value i=root(-1)\n",
    "# In python, the complex number is represented by a+jb, where a=real part and bj= imaginary part & j denotes the imagenary number in python, i.e., i=j=root(-1)"
   ]
  },
  {
   "cell_type": "code",
   "execution_count": null,
   "id": "46d851ff-eb65-4f73-8c51-2dc974f69a56",
   "metadata": {},
   "outputs": [],
   "source": []
  },
  {
   "cell_type": "code",
   "execution_count": null,
   "id": "c60d6cc4-4fdb-4c1e-84ea-0f697b048df2",
   "metadata": {},
   "outputs": [],
   "source": []
  },
  {
   "cell_type": "code",
   "execution_count": 17,
   "id": "0786e521-f463-48bf-93c0-4fb6c4631d71",
   "metadata": {},
   "outputs": [],
   "source": [
    "# Q7. What is the correct way to declare a variable named age and assign the value 25 to it?"
   ]
  },
  {
   "cell_type": "code",
   "execution_count": 18,
   "id": "95d40863-35c5-4d0f-9242-857cee8e2846",
   "metadata": {},
   "outputs": [],
   "source": [
    "age=25"
   ]
  },
  {
   "cell_type": "code",
   "execution_count": 19,
   "id": "2cb4e66a-cfba-427b-ac8c-e69300a92d17",
   "metadata": {},
   "outputs": [
    {
     "data": {
      "text/plain": [
       "25"
      ]
     },
     "execution_count": 19,
     "metadata": {},
     "output_type": "execute_result"
    }
   ],
   "source": [
    "age"
   ]
  },
  {
   "cell_type": "code",
   "execution_count": 20,
   "id": "d6fc0251-d8e6-4ac3-8e80-fef4cae207a6",
   "metadata": {},
   "outputs": [
    {
     "data": {
      "text/plain": [
       "int"
      ]
     },
     "execution_count": 20,
     "metadata": {},
     "output_type": "execute_result"
    }
   ],
   "source": [
    "type(age)"
   ]
  },
  {
   "cell_type": "code",
   "execution_count": null,
   "id": "71cc5900-c22e-4498-bb97-98130db9f679",
   "metadata": {},
   "outputs": [],
   "source": []
  },
  {
   "cell_type": "code",
   "execution_count": null,
   "id": "69052514-3f4d-404a-9aff-72067d941e94",
   "metadata": {},
   "outputs": [],
   "source": []
  },
  {
   "cell_type": "code",
   "execution_count": 21,
   "id": "47a91743-49e6-4bfa-a8c2-5b2bf35295d4",
   "metadata": {},
   "outputs": [],
   "source": [
    "# Q8. Declare the variable named price and assign the value 9.99 to it. What data type does the variable belong to?"
   ]
  },
  {
   "cell_type": "code",
   "execution_count": 22,
   "id": "6f2c78b5-a279-4de3-878f-f2da346b4441",
   "metadata": {},
   "outputs": [],
   "source": [
    "price=9.99"
   ]
  },
  {
   "cell_type": "code",
   "execution_count": 23,
   "id": "c5a81f67-4bae-4d0c-90e4-b9bba55ba5d5",
   "metadata": {},
   "outputs": [
    {
     "data": {
      "text/plain": [
       "9.99"
      ]
     },
     "execution_count": 23,
     "metadata": {},
     "output_type": "execute_result"
    }
   ],
   "source": [
    "price"
   ]
  },
  {
   "cell_type": "code",
   "execution_count": 24,
   "id": "d8355fce-2bbe-4e94-9ad5-2e9403d63554",
   "metadata": {},
   "outputs": [
    {
     "data": {
      "text/plain": [
       "float"
      ]
     },
     "execution_count": 24,
     "metadata": {},
     "output_type": "execute_result"
    }
   ],
   "source": [
    "type(price)"
   ]
  },
  {
   "cell_type": "code",
   "execution_count": 25,
   "id": "51d05baa-e5b3-43d3-b7bf-8423758a8307",
   "metadata": {},
   "outputs": [],
   "source": [
    "# here, the given variable has its type float "
   ]
  },
  {
   "cell_type": "code",
   "execution_count": null,
   "id": "76179db5-08ce-419b-a959-3fdb28e15014",
   "metadata": {},
   "outputs": [],
   "source": []
  },
  {
   "cell_type": "code",
   "execution_count": null,
   "id": "395dfe54-5b74-40ac-942f-6eea51d7e60b",
   "metadata": {},
   "outputs": [],
   "source": []
  },
  {
   "cell_type": "code",
   "execution_count": 26,
   "id": "7f4b2472-9674-4b36-b5d3-1490268c991a",
   "metadata": {},
   "outputs": [],
   "source": [
    "# Q9. create a variable named name and assign your full name to it as a string. How would you print the value of this variable?"
   ]
  },
  {
   "cell_type": "code",
   "execution_count": 29,
   "id": "1e2453ef-d338-4582-86d8-94a887108101",
   "metadata": {},
   "outputs": [
    {
     "name": "stdout",
     "output_type": "stream",
     "text": [
      "Pradip Rai\n"
     ]
    }
   ],
   "source": [
    "name=\"Pradip Rai\"\n",
    "print(name)"
   ]
  },
  {
   "cell_type": "code",
   "execution_count": 28,
   "id": "21c827cc-4e19-4ba4-8471-4989bd310130",
   "metadata": {},
   "outputs": [
    {
     "data": {
      "text/plain": [
       "str"
      ]
     },
     "execution_count": 28,
     "metadata": {},
     "output_type": "execute_result"
    }
   ],
   "source": [
    "  type(name)"
   ]
  },
  {
   "cell_type": "code",
   "execution_count": null,
   "id": "e78b5d36-8f90-488a-b9f8-34b2209f065b",
   "metadata": {},
   "outputs": [],
   "source": []
  },
  {
   "cell_type": "code",
   "execution_count": null,
   "id": "dfad526a-e2c2-4bbb-bfc7-27cca45ce367",
   "metadata": {},
   "outputs": [],
   "source": []
  },
  {
   "cell_type": "code",
   "execution_count": 30,
   "id": "60992b4c-6fb9-4292-b4a5-0d4e2889a416",
   "metadata": {},
   "outputs": [],
   "source": [
    "# Q10. Given the string \"Hello,world!\", extract the substring \"world\"."
   ]
  },
  {
   "cell_type": "code",
   "execution_count": 2,
   "id": "2227eb20-86c0-4b09-9472-5d005f15f513",
   "metadata": {},
   "outputs": [],
   "source": [
    "s=\"hello,world\""
   ]
  },
  {
   "cell_type": "code",
   "execution_count": 3,
   "id": "e4750ab4-778e-40b5-aa35-c84b9988502f",
   "metadata": {},
   "outputs": [
    {
     "data": {
      "text/plain": [
       "'hello,world'"
      ]
     },
     "execution_count": 3,
     "metadata": {},
     "output_type": "execute_result"
    }
   ],
   "source": [
    "s"
   ]
  },
  {
   "cell_type": "code",
   "execution_count": 4,
   "id": "85bace84-e781-46f0-b0c8-c7a4b83e3216",
   "metadata": {},
   "outputs": [
    {
     "data": {
      "text/plain": [
       "str"
      ]
     },
     "execution_count": 4,
     "metadata": {},
     "output_type": "execute_result"
    }
   ],
   "source": [
    "type(s)"
   ]
  },
  {
   "cell_type": "code",
   "execution_count": 9,
   "id": "91e3ee32-92f6-4ed2-b565-19e0e93de4da",
   "metadata": {},
   "outputs": [
    {
     "data": {
      "text/plain": [
       "'world'"
      ]
     },
     "execution_count": 9,
     "metadata": {},
     "output_type": "execute_result"
    }
   ],
   "source": [
    "s[6:12]"
   ]
  },
  {
   "cell_type": "code",
   "execution_count": null,
   "id": "4678de3b-8f5f-4d5b-b445-cf7a4ca3daea",
   "metadata": {},
   "outputs": [],
   "source": []
  },
  {
   "cell_type": "code",
   "execution_count": null,
   "id": "dcd49483-9e5c-4505-a049-efc40469040a",
   "metadata": {},
   "outputs": [],
   "source": []
  },
  {
   "cell_type": "code",
   "execution_count": 45,
   "id": "ec5a5adc-e3c4-4a5c-9334-4602d16b813c",
   "metadata": {},
   "outputs": [],
   "source": [
    "# Q11. Create a variable named \"is_student\" and assign it a boolean value indicating whether you are currently a student or not."
   ]
  },
  {
   "cell_type": "code",
   "execution_count": 1,
   "id": "52b74f1a-d816-4f68-8851-0cc9e7e5d365",
   "metadata": {},
   "outputs": [],
   "source": [
    "is_student=True"
   ]
  },
  {
   "cell_type": "code",
   "execution_count": null,
   "id": "802f772a-981c-4eb2-8d22-7a9faa6c9b6c",
   "metadata": {},
   "outputs": [],
   "source": []
  }
 ],
 "metadata": {
  "kernelspec": {
   "display_name": "Python 3 (ipykernel)",
   "language": "python",
   "name": "python3"
  },
  "language_info": {
   "codemirror_mode": {
    "name": "ipython",
    "version": 3
   },
   "file_extension": ".py",
   "mimetype": "text/x-python",
   "name": "python",
   "nbconvert_exporter": "python",
   "pygments_lexer": "ipython3",
   "version": "3.10.8"
  }
 },
 "nbformat": 4,
 "nbformat_minor": 5
}
