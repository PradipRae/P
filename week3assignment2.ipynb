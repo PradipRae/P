{
 "cells": [
  {
   "cell_type": "code",
   "execution_count": 1,
   "id": "102dc9e0-c080-404b-9da0-4d06cbadd626",
   "metadata": {},
   "outputs": [],
   "source": [
    "# Q1. Create a Python program to sort the given list of tuples based on integer value using a lambda function.\n",
    "#[ (\"Sachin Tendulkar\",34357),,(\"Rickey Ponting\",27483),(\"Jack kalls\",25534),(\"Virat Kohli\",24936)]\n"
   ]
  },
  {
   "cell_type": "code",
   "execution_count": 2,
   "id": "bad3541a-531a-4ce0-ae25-9f405f3514fc",
   "metadata": {},
   "outputs": [],
   "source": [
    "data=[('Sachin Tendulkar',34357),('Ricky Ponting', 27483),('Jack Kalls',25534),('Virat Kohli',24936)]"
   ]
  },
  {
   "cell_type": "code",
   "execution_count": 4,
   "id": "c2d0649a-43ea-486f-b5cb-ada88ee4c6e1",
   "metadata": {},
   "outputs": [
    {
     "name": "stdout",
     "output_type": "stream",
     "text": [
      "('Virat Kohli', 24936)\n",
      "('Jack Kalls', 25534)\n",
      "('Ricky Ponting', 27483)\n",
      "('Sachin Tendulkar', 34357)\n"
     ]
    }
   ],
   "source": [
    "sort_data=sorted(data,key=lambda x: x[1])\n",
    "for item in sort_data:\n",
    "    print(item)"
   ]
  },
  {
   "cell_type": "code",
   "execution_count": 6,
   "id": "c2f999bc-2dc9-4d35-a44f-66d70aaf915f",
   "metadata": {},
   "outputs": [],
   "source": [
    "data.sort()"
   ]
  },
  {
   "cell_type": "code",
   "execution_count": 7,
   "id": "679a46c4-4a46-4c03-be65-e8c06ae22903",
   "metadata": {},
   "outputs": [
    {
     "data": {
      "text/plain": [
       "[('Jack Kalls', 25534),\n",
       " ('Ricky Ponting', 27483),\n",
       " ('Sachin Tendulkar', 34357),\n",
       " ('Virat Kohli', 24936)]"
      ]
     },
     "execution_count": 7,
     "metadata": {},
     "output_type": "execute_result"
    }
   ],
   "source": [
    "data"
   ]
  },
  {
   "cell_type": "code",
   "execution_count": null,
   "id": "78137fda-4c2f-4363-861a-3456e3d77b68",
   "metadata": {},
   "outputs": [],
   "source": []
  },
  {
   "cell_type": "code",
   "execution_count": null,
   "id": "fb63f20e-fe51-49f9-b00f-c622a592a684",
   "metadata": {},
   "outputs": [],
   "source": []
  },
  {
   "cell_type": "code",
   "execution_count": 8,
   "id": "6858c506-7780-46df-9a40-722eb21ad31f",
   "metadata": {},
   "outputs": [],
   "source": [
    "# Q2. Write a Python Program to find the squares of all the numbers in the given list of integers using lambda and map functions.[1,2,3,4,5,6,7,8,9,10]"
   ]
  },
  {
   "cell_type": "code",
   "execution_count": 9,
   "id": "733446ef-a812-4bf2-8922-7d794668df12",
   "metadata": {},
   "outputs": [],
   "source": [
    "l=[1,2,3,4,5,6,7,8,9,10]"
   ]
  },
  {
   "cell_type": "code",
   "execution_count": 10,
   "id": "0c4feba9-7f2c-4e6e-a1cd-ff304834a68e",
   "metadata": {},
   "outputs": [
    {
     "data": {
      "text/plain": [
       "[1, 4, 9, 16, 25, 36, 49, 64, 81, 100]"
      ]
     },
     "execution_count": 10,
     "metadata": {},
     "output_type": "execute_result"
    }
   ],
   "source": [
    "list(map(lambda x:x**2,l))"
   ]
  },
  {
   "cell_type": "code",
   "execution_count": null,
   "id": "850acf05-c87c-4657-9d7e-96a4fa3c5a2b",
   "metadata": {},
   "outputs": [],
   "source": []
  },
  {
   "cell_type": "code",
   "execution_count": null,
   "id": "1e3cc5e8-01ea-4004-8d1a-eaa0b66c1df9",
   "metadata": {},
   "outputs": [],
   "source": []
  },
  {
   "cell_type": "code",
   "execution_count": null,
   "id": "69d5d8de-e46f-4fee-9016-32def9be0afe",
   "metadata": {},
   "outputs": [],
   "source": []
  },
  {
   "cell_type": "code",
   "execution_count": 11,
   "id": "096f4789-f1a1-4629-89f0-37128a269eca",
   "metadata": {},
   "outputs": [],
   "source": [
    "#Q3. Write a Python program to convert the given list to integers into a tuple of strings.Use map and lambda functions. Given String:[1,2,3,4,5,6,7,8,9,10] "
   ]
  },
  {
   "cell_type": "code",
   "execution_count": null,
   "id": "4420d37a-c7cd-4108-9abc-33e496d892bb",
   "metadata": {},
   "outputs": [],
   "source": []
  },
  {
   "cell_type": "code",
   "execution_count": 12,
   "id": "ba4b360b-a465-428b-8884-49bea0d6186c",
   "metadata": {},
   "outputs": [],
   "source": [
    "l=[1,2,3,4,5,6,7,8,9,10]"
   ]
  },
  {
   "cell_type": "code",
   "execution_count": 15,
   "id": "af78636a-9dc4-4f14-acd1-569bb6669333",
   "metadata": {},
   "outputs": [
    {
     "data": {
      "text/plain": [
       "list"
      ]
     },
     "execution_count": 15,
     "metadata": {},
     "output_type": "execute_result"
    }
   ],
   "source": [
    "type(l)"
   ]
  },
  {
   "cell_type": "code",
   "execution_count": 16,
   "id": "5d894d38-a094-4aa8-8e92-0f7d6f95f127",
   "metadata": {},
   "outputs": [
    {
     "name": "stdout",
     "output_type": "stream",
     "text": [
      "('1', '2', '3', '4', '5', '6', '7', '8', '9', '10')\n"
     ]
    }
   ],
   "source": [
    "l_tuple=tuple(map(lambda x:str(x),l))\n",
    "print(l_tuple)"
   ]
  },
  {
   "cell_type": "code",
   "execution_count": null,
   "id": "fc63efd4-e0d0-462a-9017-476593e0c9b1",
   "metadata": {},
   "outputs": [],
   "source": []
  },
  {
   "cell_type": "code",
   "execution_count": null,
   "id": "ed150140-9794-4021-a75f-1a64298bcb2e",
   "metadata": {},
   "outputs": [],
   "source": []
  },
  {
   "cell_type": "code",
   "execution_count": null,
   "id": "97b43f73-4dc2-4849-93a1-743e28cd5fc0",
   "metadata": {},
   "outputs": [],
   "source": []
  },
  {
   "cell_type": "code",
   "execution_count": 17,
   "id": "91134563-1ccc-4636-a95a-a252ecdaa3a2",
   "metadata": {},
   "outputs": [],
   "source": [
    "#Q4. Write a python program using reduce function to compute the product of a list containing numbers from 1 to 25."
   ]
  },
  {
   "cell_type": "code",
   "execution_count": 22,
   "id": "9e1e126f-9785-4c71-b240-33ad53cc396c",
   "metadata": {},
   "outputs": [],
   "source": [
    "from functools import reduce"
   ]
  },
  {
   "cell_type": "code",
   "execution_count": 23,
   "id": "963e66d9-ba5c-499c-afdb-5bd2c5fc02ac",
   "metadata": {},
   "outputs": [],
   "source": [
    "l= list(range(1,26))"
   ]
  },
  {
   "cell_type": "code",
   "execution_count": 24,
   "id": "3832515f-1793-4d47-9bba-8383bdb2ab08",
   "metadata": {},
   "outputs": [
    {
     "data": {
      "text/plain": [
       "[1,\n",
       " 2,\n",
       " 3,\n",
       " 4,\n",
       " 5,\n",
       " 6,\n",
       " 7,\n",
       " 8,\n",
       " 9,\n",
       " 10,\n",
       " 11,\n",
       " 12,\n",
       " 13,\n",
       " 14,\n",
       " 15,\n",
       " 16,\n",
       " 17,\n",
       " 18,\n",
       " 19,\n",
       " 20,\n",
       " 21,\n",
       " 22,\n",
       " 23,\n",
       " 24,\n",
       " 25]"
      ]
     },
     "execution_count": 24,
     "metadata": {},
     "output_type": "execute_result"
    }
   ],
   "source": [
    "l"
   ]
  },
  {
   "cell_type": "code",
   "execution_count": 25,
   "id": "96ebec16-63a4-43df-ab57-55628cac837a",
   "metadata": {},
   "outputs": [
    {
     "data": {
      "text/plain": [
       "15511210043330985984000000"
      ]
     },
     "execution_count": 25,
     "metadata": {},
     "output_type": "execute_result"
    }
   ],
   "source": [
    "reduce(lambda x,y:x*y,l)"
   ]
  },
  {
   "cell_type": "code",
   "execution_count": null,
   "id": "bc83f235-bcb3-454c-aeca-9c006c914f93",
   "metadata": {},
   "outputs": [],
   "source": []
  },
  {
   "cell_type": "code",
   "execution_count": null,
   "id": "e8b97aa9-43e9-4073-9fd2-fc7cfd3bc74c",
   "metadata": {},
   "outputs": [],
   "source": []
  },
  {
   "cell_type": "code",
   "execution_count": 26,
   "id": "2f8fc1c7-b491-4e84-b980-3d5209617c18",
   "metadata": {},
   "outputs": [],
   "source": [
    "#Q5. Write a python program to filter the numbers in a given list that are divisible by 2 and 3 using the filter function . [2,3,6,9,27,60,90,120,55,46]"
   ]
  },
  {
   "cell_type": "code",
   "execution_count": 27,
   "id": "4ba47b48-c1fe-444e-9852-88963ce4543b",
   "metadata": {},
   "outputs": [],
   "source": [
    "l=[2,3,6,9,27,60,90,120,55,46]"
   ]
  },
  {
   "cell_type": "code",
   "execution_count": 34,
   "id": "de1017b7-992e-41d1-b9cf-1c41ddb6ccac",
   "metadata": {},
   "outputs": [
    {
     "data": {
      "text/plain": [
       "[2, 6, 60, 90, 120, 46]"
      ]
     },
     "execution_count": 34,
     "metadata": {},
     "output_type": "execute_result"
    }
   ],
   "source": [
    "list(filter(lambda x:x%2==0,l))"
   ]
  },
  {
   "cell_type": "code",
   "execution_count": 29,
   "id": "62fd7b38-a79d-4591-af9f-ec5c7be58434",
   "metadata": {},
   "outputs": [
    {
     "data": {
      "text/plain": [
       "[3, 6, 9, 27, 60, 90, 120]"
      ]
     },
     "execution_count": 29,
     "metadata": {},
     "output_type": "execute_result"
    }
   ],
   "source": [
    "list(filter(lambda x:x%3==0,l))"
   ]
  },
  {
   "cell_type": "code",
   "execution_count": null,
   "id": "eb8f0d19-3bbe-4c3c-9c80-11e982abb990",
   "metadata": {},
   "outputs": [],
   "source": []
  },
  {
   "cell_type": "code",
   "execution_count": null,
   "id": "963336ab-18b0-4532-b753-d68a4a793e9c",
   "metadata": {},
   "outputs": [],
   "source": []
  },
  {
   "cell_type": "code",
   "execution_count": null,
   "id": "ea06c8a8-09a6-4cb3-8638-311862433888",
   "metadata": {},
   "outputs": [],
   "source": []
  },
  {
   "cell_type": "code",
   "execution_count": null,
   "id": "740090f3-d431-458d-870a-f339b2a4ddba",
   "metadata": {},
   "outputs": [],
   "source": [
    "#Q6. Write a python program to find palindromes in the given list of strings using lambda and filter function.[\"python\",\"radar\",\"level\"]"
   ]
  },
  {
   "cell_type": "code",
   "execution_count": null,
   "id": "87fa45e5-771f-41e1-b114-335628af955e",
   "metadata": {},
   "outputs": [],
   "source": [
    "def is_palindrome(string):\n",
    "    return string== string[::-1]"
   ]
  },
  {
   "cell_type": "code",
   "execution_count": null,
   "id": "589e6556-68ad-47a9-a1b0-cd3383ff21b6",
   "metadata": {},
   "outputs": [],
   "source": [
    "strings=[\"python\",\"php\",\"radar\",\"level\"]"
   ]
  },
  {
   "cell_type": "code",
   "execution_count": null,
   "id": "f5636f12-d8e6-4d13-858d-3edad203ed66",
   "metadata": {},
   "outputs": [],
   "source": [
    "palindromes= list(filter(lambda x: is_palindrome(x),strings))"
   ]
  },
  {
   "cell_type": "code",
   "execution_count": 36,
   "id": "9a0ee966-4bc0-4e86-b616-4c6a164041ce",
   "metadata": {},
   "outputs": [
    {
     "ename": "NameError",
     "evalue": "name 'palindromes' is not defined",
     "output_type": "error",
     "traceback": [
      "\u001b[0;31m---------------------------------------------------------------------------\u001b[0m",
      "\u001b[0;31mNameError\u001b[0m                                 Traceback (most recent call last)",
      "Cell \u001b[0;32mIn[36], line 1\u001b[0m\n\u001b[0;32m----> 1\u001b[0m \u001b[38;5;28mprint\u001b[39m(\u001b[38;5;124m\"\u001b[39m\u001b[38;5;124mPalindromes:\u001b[39m\u001b[38;5;124m\"\u001b[39m,\u001b[43mpalindromes\u001b[49m)\n",
      "\u001b[0;31mNameError\u001b[0m: name 'palindromes' is not defined"
     ]
    }
   ],
   "source": [
    "print(\"Palindromes:\",palindromes)"
   ]
  },
  {
   "cell_type": "code",
   "execution_count": 37,
   "id": "98e781ed-dbbb-42dd-b084-d2308b5f52aa",
   "metadata": {},
   "outputs": [
    {
     "name": "stdout",
     "output_type": "stream",
     "text": [
      "Palindromes: ['php', 'radar', 'level']\n"
     ]
    }
   ],
   "source": [
    "def is_palindrome(string):\n",
    "    return string == string[::-1]\n",
    "\n",
    "strings = ['python', 'php', 'radar', 'level']\n",
    "\n",
    "palindromes = list(filter(lambda x: is_palindrome(x), strings))\n",
    "\n",
    "print(\"Palindromes:\", palindromes)"
   ]
  },
  {
   "cell_type": "code",
   "execution_count": null,
   "id": "95a7aa74-3255-436d-afee-0a7e58995420",
   "metadata": {},
   "outputs": [],
   "source": []
  }
 ],
 "metadata": {
  "kernelspec": {
   "display_name": "Python 3 (ipykernel)",
   "language": "python",
   "name": "python3"
  },
  "language_info": {
   "codemirror_mode": {
    "name": "ipython",
    "version": 3
   },
   "file_extension": ".py",
   "mimetype": "text/x-python",
   "name": "python",
   "nbconvert_exporter": "python",
   "pygments_lexer": "ipython3",
   "version": "3.10.8"
  }
 },
 "nbformat": 4,
 "nbformat_minor": 5
}
