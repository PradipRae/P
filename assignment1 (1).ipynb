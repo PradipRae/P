{
 "cells": [
  {
   "cell_type": "code",
   "execution_count": 1,
   "id": "c59228ce-6820-4c2e-b463-cc1932af9fa5",
   "metadata": {},
   "outputs": [],
   "source": [
    "# Q1. Create one variable containing-string,list,float,tuple\n"
   ]
  },
  {
   "cell_type": "code",
   "execution_count": 5,
   "id": "51c01f1a-c275-45c9-a97f-b16a7fbc0a11",
   "metadata": {},
   "outputs": [],
   "source": [
    "p=('pradip',5.67)"
   ]
  },
  {
   "cell_type": "code",
   "execution_count": 6,
   "id": "55ce6af3-4935-4cfa-a5df-0c6e8a3ff61b",
   "metadata": {},
   "outputs": [
    {
     "data": {
      "text/plain": [
       "tuple"
      ]
     },
     "execution_count": 6,
     "metadata": {},
     "output_type": "execute_result"
    }
   ],
   "source": [
    "type(p)"
   ]
  },
  {
   "cell_type": "code",
   "execution_count": 7,
   "id": "d01ad6fc-2d6d-4f2f-8933-158adb247fe2",
   "metadata": {},
   "outputs": [],
   "source": [
    "q='pradip'"
   ]
  },
  {
   "cell_type": "code",
   "execution_count": 8,
   "id": "d98b7cdd-e569-4f24-a4ee-1fd8b52710f3",
   "metadata": {},
   "outputs": [
    {
     "data": {
      "text/plain": [
       "str"
      ]
     },
     "execution_count": 8,
     "metadata": {},
     "output_type": "execute_result"
    }
   ],
   "source": [
    "type(q)"
   ]
  },
  {
   "cell_type": "code",
   "execution_count": 9,
   "id": "0535ed9e-110d-448c-9a1c-4ef079f60f76",
   "metadata": {},
   "outputs": [],
   "source": [
    "r=[1,2,True,2.5]"
   ]
  },
  {
   "cell_type": "code",
   "execution_count": 10,
   "id": "9575864d-4dc0-4f88-b48f-175473e26aca",
   "metadata": {},
   "outputs": [
    {
     "data": {
      "text/plain": [
       "list"
      ]
     },
     "execution_count": 10,
     "metadata": {},
     "output_type": "execute_result"
    }
   ],
   "source": [
    "type(r)"
   ]
  },
  {
   "cell_type": "code",
   "execution_count": 11,
   "id": "2c10a826-df8c-414a-a7e0-89d52a8a6017",
   "metadata": {},
   "outputs": [],
   "source": [
    "s=2.5"
   ]
  },
  {
   "cell_type": "code",
   "execution_count": 12,
   "id": "6be2dd9d-cc99-4361-b70a-41787031eccb",
   "metadata": {},
   "outputs": [
    {
     "data": {
      "text/plain": [
       "float"
      ]
     },
     "execution_count": 12,
     "metadata": {},
     "output_type": "execute_result"
    }
   ],
   "source": [
    "type(s)"
   ]
  },
  {
   "cell_type": "code",
   "execution_count": 14,
   "id": "a5ce53d9-079d-46fc-bd7b-52273e0357d4",
   "metadata": {},
   "outputs": [],
   "source": [
    "# Q2. Given are some following variables containing data:\n",
    "#(i) var1=''\n",
    "#(ii) var2='[DS,ML,Python]'\n",
    "#(iii) var3 =['DS','ML','Python']\n",
    "#(iv) var4 =1"
   ]
  },
  {
   "cell_type": "code",
   "execution_count": 18,
   "id": "7def2791-159b-4f0c-8695-3a91dd9d554e",
   "metadata": {},
   "outputs": [],
   "source": [
    "var1=''"
   ]
  },
  {
   "cell_type": "code",
   "execution_count": 19,
   "id": "b3652607-0932-4f95-94fd-5437ee1e1935",
   "metadata": {},
   "outputs": [
    {
     "data": {
      "text/plain": [
       "str"
      ]
     },
     "execution_count": 19,
     "metadata": {},
     "output_type": "execute_result"
    }
   ],
   "source": [
    "type(var1)"
   ]
  },
  {
   "cell_type": "code",
   "execution_count": 21,
   "id": "e75061d2-b6a4-4438-9780-4d2cf8f52b13",
   "metadata": {},
   "outputs": [],
   "source": [
    "var2='[DS,ML,Python]'"
   ]
  },
  {
   "cell_type": "code",
   "execution_count": 22,
   "id": "11f31105-8da6-4ffc-a374-64d172f0a7ef",
   "metadata": {},
   "outputs": [
    {
     "data": {
      "text/plain": [
       "str"
      ]
     },
     "execution_count": 22,
     "metadata": {},
     "output_type": "execute_result"
    }
   ],
   "source": [
    "type(var2)"
   ]
  },
  {
   "cell_type": "code",
   "execution_count": 22,
   "id": "752669f1-303e-4bf9-9e5a-cea571bb4093",
   "metadata": {},
   "outputs": [],
   "source": [
    "var3=['DS','ML','Python']"
   ]
  },
  {
   "cell_type": "code",
   "execution_count": 23,
   "id": "2dd90722-6b7f-4fe1-b3ea-24ca60c4618b",
   "metadata": {},
   "outputs": [
    {
     "data": {
      "text/plain": [
       "list"
      ]
     },
     "execution_count": 23,
     "metadata": {},
     "output_type": "execute_result"
    }
   ],
   "source": [
    "type(var3)"
   ]
  },
  {
   "cell_type": "code",
   "execution_count": 24,
   "id": "ff510f45-3902-4a35-8ac2-66b67af9c05b",
   "metadata": {},
   "outputs": [],
   "source": [
    "var4=1\n"
   ]
  },
  {
   "cell_type": "code",
   "execution_count": 26,
   "id": "3e5bcd1c-a2f4-484a-9dbc-f48698c77136",
   "metadata": {},
   "outputs": [
    {
     "data": {
      "text/plain": [
       "int"
      ]
     },
     "execution_count": 26,
     "metadata": {},
     "output_type": "execute_result"
    }
   ],
   "source": [
    "type(var4)"
   ]
  },
  {
   "cell_type": "code",
   "execution_count": 28,
   "id": "83f12599-8282-44aa-94d4-85ad72d760ac",
   "metadata": {},
   "outputs": [],
   "source": [
    "# Q3. Explain the use of the following operators using an examples\n",
    "#(i) \"/\" it is used for dividing the one variable by another\n",
    "#(ii) \"%\"  it is use to find the remainder ,when one variable divides the other one \n",
    "#(iii) \"//\" it calclates only the numerical value not the decimal decimal part\n",
    "#(iv)\"**\" it is the symbol of power or exponent in programming language\n",
    "# some of their examples are  :"
   ]
  },
  {
   "cell_type": "code",
   "execution_count": 33,
   "id": "211fddbc-9487-4985-87a2-b1ea864cdcc4",
   "metadata": {},
   "outputs": [],
   "source": [
    "a=5\n",
    "b=2\n",
    "c=a/b\n"
   ]
  },
  {
   "cell_type": "code",
   "execution_count": 30,
   "id": "7409920e-2946-4ad7-a859-cbd5ffd6b3a9",
   "metadata": {},
   "outputs": [
    {
     "data": {
      "text/plain": [
       "2.5"
      ]
     },
     "execution_count": 30,
     "metadata": {},
     "output_type": "execute_result"
    }
   ],
   "source": [
    "c"
   ]
  },
  {
   "cell_type": "code",
   "execution_count": 34,
   "id": "3d311811-4cc6-497d-a832-00eeb02fd823",
   "metadata": {},
   "outputs": [
    {
     "data": {
      "text/plain": [
       "1"
      ]
     },
     "execution_count": 34,
     "metadata": {},
     "output_type": "execute_result"
    }
   ],
   "source": [
    "a%b"
   ]
  },
  {
   "cell_type": "code",
   "execution_count": 35,
   "id": "d930e475-50ba-42d6-860a-ed3b28980550",
   "metadata": {},
   "outputs": [
    {
     "data": {
      "text/plain": [
       "2"
      ]
     },
     "execution_count": 35,
     "metadata": {},
     "output_type": "execute_result"
    }
   ],
   "source": [
    "a//b"
   ]
  },
  {
   "cell_type": "code",
   "execution_count": 36,
   "id": "1b225428-dffe-4f7a-854b-50c74ab03630",
   "metadata": {},
   "outputs": [
    {
     "data": {
      "text/plain": [
       "25"
      ]
     },
     "execution_count": 36,
     "metadata": {},
     "output_type": "execute_result"
    }
   ],
   "source": [
    "a**b"
   ]
  },
  {
   "cell_type": "code",
   "execution_count": 37,
   "id": "5868b798-1f87-4ae8-a93d-cb11473e99f5",
   "metadata": {},
   "outputs": [],
   "source": [
    "# Q4. Create a list of length 10 of your choice containing multiple type of data. Using for loop print the element and its data type."
   ]
  },
  {
   "cell_type": "code",
   "execution_count": 39,
   "id": "541366fc-ef7b-45a2-ac3e-3d28a91af6c9",
   "metadata": {},
   "outputs": [],
   "source": [
    "a=[1,2,3,4,'pradip','rai',True,22.57,False,5]"
   ]
  },
  {
   "cell_type": "code",
   "execution_count": 40,
   "id": "6e3d7c25-1eef-4308-884c-bde77502d44c",
   "metadata": {},
   "outputs": [
    {
     "name": "stdout",
     "output_type": "stream",
     "text": [
      "<class 'int'>\n",
      "1\n",
      "<class 'int'>\n",
      "2\n",
      "<class 'int'>\n",
      "3\n",
      "<class 'int'>\n",
      "4\n",
      "<class 'str'>\n",
      "pradip\n",
      "<class 'str'>\n",
      "rai\n",
      "<class 'bool'>\n",
      "True\n",
      "<class 'float'>\n",
      "22.57\n",
      "<class 'bool'>\n",
      "False\n",
      "<class 'int'>\n",
      "5\n"
     ]
    }
   ],
   "source": [
    "for i in a:\n",
    "    print(type(i))\n",
    "    print(i)\n"
   ]
  },
  {
   "cell_type": "code",
   "execution_count": 43,
   "id": "5d6d3762-f376-4ac8-a719-a390effbf478",
   "metadata": {},
   "outputs": [],
   "source": [
    "# Q5. Using a while loop, verify if the number A is purely divisible by number B and if so then how many times it can be divisible."
   ]
  },
  {
   "cell_type": "markdown",
   "id": "247dfd4e-1031-4bf5-a96d-fd4a367ac503",
   "metadata": {},
   "source": [
    "A= int(input(\"enter\"))\n",
    "B= int(input(\"enter\"))\n",
    "count=0\n",
    "while A%B==0:\n",
    "    A/B\n",
    "    count=count+1\n",
    "if count>0:\n",
    "    print(\"A is divisible by B\")\n",
    "    print(\"A can be devided B\",count,\"string\")\n",
    "else:\n",
    "    print(\"A is not divisible by B\")\n",
    "    \n",
    "    \n"
   ]
  },
  {
   "cell_type": "code",
   "execution_count": null,
   "id": "51b84d91-2682-4ad5-be57-e749d2fb8a6d",
   "metadata": {},
   "outputs": [],
   "source": []
  },
  {
   "cell_type": "code",
   "execution_count": null,
   "id": "472f0a0c-033f-4fc9-9eef-820424c62a86",
   "metadata": {},
   "outputs": [],
   "source": []
  },
  {
   "cell_type": "code",
   "execution_count": 44,
   "id": "f0a3593a-6f74-48e3-818c-651ba57573eb",
   "metadata": {},
   "outputs": [],
   "source": [
    "# Q6. Create a list containing 25 int type data. Using for loop and if-else condition prin if the element is divisible by 3 or not.\n"
   ]
  },
  {
   "cell_type": "code",
   "execution_count": 4,
   "id": "797efc19-1c4f-45fb-b2f0-f7f64de135a8",
   "metadata": {},
   "outputs": [],
   "source": [
    "a=list(range(1,26))"
   ]
  },
  {
   "cell_type": "code",
   "execution_count": 17,
   "id": "17b3a002-b4b5-470c-bd72-8d7ebecce7fc",
   "metadata": {},
   "outputs": [
    {
     "name": "stdout",
     "output_type": "stream",
     "text": [
      "1 is not divisible by 3\n",
      "2 is not divisible by 3\n",
      "3 is divisible by 3\n",
      "4 is not divisible by 3\n",
      "5 is not divisible by 3\n",
      "6 is divisible by 3\n",
      "7 is not divisible by 3\n",
      "8 is not divisible by 3\n",
      "9 is divisible by 3\n",
      "10 is not divisible by 3\n",
      "11 is not divisible by 3\n",
      "12 is divisible by 3\n",
      "13 is not divisible by 3\n",
      "14 is not divisible by 3\n",
      "15 is divisible by 3\n",
      "16 is not divisible by 3\n",
      "17 is not divisible by 3\n",
      "18 is divisible by 3\n",
      "19 is not divisible by 3\n",
      "20 is not divisible by 3\n",
      "21 is divisible by 3\n",
      "22 is not divisible by 3\n",
      "23 is not divisible by 3\n",
      "24 is divisible by 3\n",
      "25 is not divisible by 3\n"
     ]
    }
   ],
   "source": [
    "for i in a:\n",
    "    if i%3==0:\n",
    "        print(i,\"is divisible by 3\")\n",
    "    else: \n",
    "        print(i, \"is not divisible by 3\") "
   ]
  },
  {
   "cell_type": "code",
   "execution_count": 7,
   "id": "158501b0-7d65-44c9-93da-e390bb8266c6",
   "metadata": {},
   "outputs": [],
   "source": [
    "# Q7. What do you understand by mutable and immutable data type? Give examples for both showing this property."
   ]
  },
  {
   "cell_type": "code",
   "execution_count": 8,
   "id": "dfdb3d5d-b7cc-46ab-9a33-70407c3c48ea",
   "metadata": {},
   "outputs": [],
   "source": [
    "# Mutable data type are the data type which allow you to change the value or data in place without affecting the data type .And immutable data type is that which doesnot allow to change the value of the data given.\n",
    "# For ex- \"list\" is a mutable data type on the other hand \"string\" is a immutable data type."
   ]
  },
  {
   "cell_type": "code",
   "execution_count": null,
   "id": "97bd5427-fd88-4a81-9f6d-58619fa18f61",
   "metadata": {},
   "outputs": [],
   "source": []
  },
  {
   "cell_type": "code",
   "execution_count": null,
   "id": "7ae00d57-44b2-440a-8204-159ead7d147a",
   "metadata": {},
   "outputs": [],
   "source": []
  },
  {
   "cell_type": "code",
   "execution_count": null,
   "id": "2d83123a-ed80-45a4-872e-6c9b5263ad57",
   "metadata": {},
   "outputs": [],
   "source": []
  },
  {
   "cell_type": "code",
   "execution_count": null,
   "id": "e9ffba04-07c9-4b15-836c-79d566c146fa",
   "metadata": {},
   "outputs": [],
   "source": []
  },
  {
   "cell_type": "code",
   "execution_count": null,
   "id": "8be97022-9d42-44c8-b942-eb0cfd8d210a",
   "metadata": {},
   "outputs": [],
   "source": []
  },
  {
   "cell_type": "code",
   "execution_count": null,
   "id": "18abcee0-2775-40a3-833b-a923a96f2557",
   "metadata": {},
   "outputs": [],
   "source": []
  }
 ],
 "metadata": {
  "kernelspec": {
   "display_name": "Python 3 (ipykernel)",
   "language": "python",
   "name": "python3"
  },
  "language_info": {
   "codemirror_mode": {
    "name": "ipython",
    "version": 3
   },
   "file_extension": ".py",
   "mimetype": "text/x-python",
   "name": "python",
   "nbconvert_exporter": "python",
   "pygments_lexer": "ipython3",
   "version": "3.10.8"
  }
 },
 "nbformat": 4,
 "nbformat_minor": 5
}
